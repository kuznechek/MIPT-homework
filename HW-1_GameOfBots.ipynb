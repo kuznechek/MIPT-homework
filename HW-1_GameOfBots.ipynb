{
  "nbformat": 4,
  "nbformat_minor": 0,
  "metadata": {
    "colab": {
      "provenance": [],
      "collapsed_sections": [],
      "authorship_tag": "ABX9TyP2EYk+snexnqdMFPlDleHD",
      "include_colab_link": true
    },
    "kernelspec": {
      "name": "python3",
      "display_name": "Python 3"
    },
    "language_info": {
      "name": "python"
    }
  },
  "cells": [
    {
      "cell_type": "markdown",
      "metadata": {
        "id": "view-in-github",
        "colab_type": "text"
      },
      "source": [
        "<a href=\"https://colab.research.google.com/github/kuznechek/MIPT-homework/blob/dev/HW-1_GameOfBots.ipynb\" target=\"_parent\"><img src=\"https://colab.research.google.com/assets/colab-badge.svg\" alt=\"Open In Colab\"/></a>"
      ]
    },
    {
      "cell_type": "markdown",
      "source": [
        "# Python Advanced. Функции. Домашнее задание (HW)\n",
        "## 0. Загрузка и импорт модулей\n",
        "---"
      ],
      "metadata": {
        "id": "Rg-zRQPXMBJe"
      }
    },
    {
      "cell_type": "code",
      "execution_count": 2,
      "metadata": {
        "colab": {
          "base_uri": "https://localhost:8080/"
        },
        "id": "o7uwQsbjp28_",
        "outputId": "9a9a176b-1150-454d-e9b5-81b4dcef7443"
      },
      "outputs": [
        {
          "output_type": "stream",
          "name": "stdout",
          "text": [
            "\u001b[K     |████████████████████████████████| 1.9 MB 5.1 MB/s \n",
            "\u001b[K     |████████████████████████████████| 62 kB 1.3 MB/s \n",
            "\u001b[?25h"
          ]
        }
      ],
      "source": [
        "! pip install -q -U kaggle_environments"
      ]
    },
    {
      "cell_type": "code",
      "source": [
        "import numpy as np\n",
        "import pandas as pd\n",
        "import random\n",
        "import json\n",
        "import time\n",
        "import matplotlib.pyplot as plt\n",
        "import seaborn as sns\n",
        "\n",
        "from kaggle_environments import make, evaluate\n",
        "\n",
        "\n",
        "# полезные функции\n",
        "def print_dict(t):\n",
        "  for key, value in t.items():\n",
        "    print(\"{0}: {1}\".format(key,value))\n",
        "  print('\\n')\n",
        "\n",
        "def get_score(first, second):\n",
        "  if first > second:\n",
        "    return 1\n",
        "  elif first < second:\n",
        "    return -1\n",
        "  else: return 0"
      ],
      "metadata": {
        "id": "t6SkE55_p70B"
      },
      "execution_count": 3,
      "outputs": []
    },
    {
      "cell_type": "markdown",
      "source": [
        "##1. Агенты\n",
        "---\n",
        "\n"
      ],
      "metadata": {
        "id": "BMN07u3d4Kkb"
      }
    },
    {
      "cell_type": "markdown",
      "source": [
        "### Агент № 1 \n",
        "Всегда выбирает \"камень\"."
      ],
      "metadata": {
        "id": "nFs8s_Jh5DGy"
      }
    },
    {
      "cell_type": "code",
      "source": [
        "def agent_1(observation, configuration):\n",
        "    return 0"
      ],
      "metadata": {
        "id": "MhXFyPdVtEvL"
      },
      "execution_count": 4,
      "outputs": []
    },
    {
      "cell_type": "markdown",
      "source": [
        "### Агент № 2 \n",
        "Всегда выбирает \"бумагу\"."
      ],
      "metadata": {
        "id": "ifZwp0-L4117"
      }
    },
    {
      "cell_type": "code",
      "source": [
        "def agent_2(observation, configuration):\n",
        "    return 1"
      ],
      "metadata": {
        "id": "2OK07ktc4y5z"
      },
      "execution_count": 5,
      "outputs": []
    },
    {
      "cell_type": "markdown",
      "source": [
        "### Агент № 3\n",
        "Всегда выбирает \"ножницы\"."
      ],
      "metadata": {
        "id": "IHA_Cz7Y5KRt"
      }
    },
    {
      "cell_type": "code",
      "source": [
        "def agent_3(observation, configuration):\n",
        "    return 2"
      ],
      "metadata": {
        "id": "wVaVoDlD5H2F"
      },
      "execution_count": 6,
      "outputs": []
    },
    {
      "cell_type": "markdown",
      "source": [
        "### Агент № 4\n",
        "Всегда выбирает случайный ответ."
      ],
      "metadata": {
        "id": "Q5PvCVN15YGS"
      }
    },
    {
      "cell_type": "code",
      "source": [
        "def agent_4(observation, configuration):\n",
        "  retValue = random.choice([0, 1, 2])\n",
        "  return retValue"
      ],
      "metadata": {
        "id": "FU1pgMS35RIi"
      },
      "execution_count": 7,
      "outputs": []
    },
    {
      "cell_type": "markdown",
      "source": [
        "### Агент № 5\n",
        "Если на прошлом ходу проиграл, выбирает любое значение, кроме прошлого. Иначе выбирает \"бумагу\"."
      ],
      "metadata": {
        "id": "hgZTbHct5nCC"
      }
    },
    {
      "cell_type": "code",
      "source": [
        "lastAct = 1\n",
        "\n",
        "def agent_5(observation, configuration):\n",
        "    global lastAct\n",
        "    if observation.step > 0:\n",
        "      if observation.reward < 0:\n",
        "        t = [0, 1, 2]\n",
        "        t.remove(lastAct)\n",
        "        lastAct = random.choice(t)\n",
        "        return lastAct\n",
        "    else:\n",
        "      lastAct = 1\n",
        "    return lastAct"
      ],
      "metadata": {
        "id": "ASnCvNXsA8Rd"
      },
      "execution_count": 8,
      "outputs": []
    },
    {
      "cell_type": "markdown",
      "source": [
        "### Агент № 6\n",
        "Считает, что противник два раза подряд выбрал одинаковое значение, то в третий раз выберет новое."
      ],
      "metadata": {
        "id": "FZQFBqO75z8a"
      }
    },
    {
      "cell_type": "code",
      "source": [
        "lastOppAct = [0, 0]\n",
        "i = 0\n",
        "\n",
        "def agent_6(observation, configuration):\n",
        "    global lastOppAct\n",
        "    global i \n",
        "    if observation.step > 0:\n",
        "      lastOppAct[i] = observation.lastOpponentAction\n",
        "      i += 1\n",
        "      i %= 2\n",
        "      if lastOppAct[0] == lastOppAct[1]:\n",
        "        if lastOppAct[0] == 0:\n",
        "          return 2\n",
        "        elif lastOppAct[0] == 1:\n",
        "          return 0\n",
        "    return 1"
      ],
      "metadata": {
        "id": "CBO5guJFB1KM"
      },
      "execution_count": 9,
      "outputs": []
    },
    {
      "cell_type": "markdown",
      "source": [
        "### Агент № 7\n",
        "Считает, что противник каждый раз меняет выбор, выбирает ответ, исходя из этой логики.\n",
        "\n",
        "*(Например, если на прошлом ходу противник выбрал 2 (ножницы), данный агент будет считать, что противник выберет на текущем ходу 0 или 1 (камень или бумагу соответственно). То есть данный агент в такой ситуации выберет  1 (камень).)*"
      ],
      "metadata": {
        "id": "CrZ5ZxKa6Exw"
      }
    },
    {
      "cell_type": "code",
      "source": [
        "def agent_7(observation, configuration):\n",
        "    if observation.step > 0:\n",
        "        return (observation.lastOpponentAction + 2) % 2\n",
        "    else:\n",
        "        return random.choice([0, 1, 2])"
      ],
      "metadata": {
        "id": "u2_y_v8u9Qlo"
      },
      "execution_count": 10,
      "outputs": []
    },
    {
      "cell_type": "markdown",
      "source": [
        "### Агент № 8\n",
        "Выбирает между двумя прошлыми значениями оппонента. Если прошло менее двух кругов, выбирает \"ножницы\"."
      ],
      "metadata": {
        "id": "JmyM5At47Wiu"
      }
    },
    {
      "cell_type": "code",
      "source": [
        "lastOppAct = [0, 0]\n",
        "i = 0\n",
        "\n",
        "def agent_8(observation, configuration):\n",
        "    global lastOppAct\n",
        "    global i \n",
        "    if observation.step > 0:\n",
        "      lastOppAct[i] = observation.lastOpponentAction\n",
        "      i += 1\n",
        "      i %= 2\n",
        "      return random.choice(lastOppAct)\n",
        "    return 2"
      ],
      "metadata": {
        "id": "xpcrQ_M3Dr09"
      },
      "execution_count": 11,
      "outputs": []
    },
    {
      "cell_type": "markdown",
      "source": [
        "### Агент № 9\n",
        "Повторяет действия оппонента, если выиграл. В других ситуациях выбирает случайное значение."
      ],
      "metadata": {
        "id": "kx7C5gzp7cN9"
      }
    },
    {
      "cell_type": "code",
      "source": [
        "lastAct = 0\n",
        "\n",
        "def agent_9(observation, configuration):\n",
        "    global lastAct\n",
        "    if observation.step == 0:\n",
        "      lastAct = random.choice([0, 1, 2])\n",
        "    elif get_score(lastAct, observation.lastOpponentAction) == -1:\n",
        "      lastAct = observation.lastOpponentAction\n",
        "    else: \n",
        "      lastAct = random.choice([0, 1, 2])\n",
        "    return lastAct"
      ],
      "metadata": {
        "id": "Ilqy449--3Ys"
      },
      "execution_count": 26,
      "outputs": []
    },
    {
      "cell_type": "markdown",
      "source": [
        "### Агент № 10\n",
        "Выкидывает значение, которое победило в прошлом раунде. В случае ничьи выкидывает случайное значение."
      ],
      "metadata": {
        "id": "zmHF9BNe8GVH"
      }
    },
    {
      "cell_type": "code",
      "source": [
        "lastAct = 0\n",
        "\n",
        "def agent_10(observation, configuration):\n",
        "    global lastAct\n",
        "    if observation.step == 0:\n",
        "      lastAct = random.choice([0, 1, 2])\n",
        "    elif get_score(lastAct, observation.lastOpponentAction) == 1:\n",
        "      lastAct = observation.lastOpponentAction\n",
        "    elif get_score(observation.lastOpponentAction, lastAct) == 0:\n",
        "      lastAct = random.choice([0, 1, 2])\n",
        "    return lastAct"
      ],
      "metadata": {
        "id": "np8oAV5PAhtx"
      },
      "execution_count": 13,
      "outputs": []
    },
    {
      "cell_type": "markdown",
      "source": [
        "### Агент № 11\n",
        "Выбирает по очереди: \"камень\", \"бумагу\", нрожницы\"."
      ],
      "metadata": {
        "id": "cGshFm7d8Y0p"
      }
    },
    {
      "cell_type": "code",
      "source": [
        "c = -1\n",
        "\n",
        "def agent_11(observation, configuration):\n",
        "    global c\n",
        "    c += 1\n",
        "    if c % 3 == 0:\n",
        "        return 0\n",
        "    elif c % 3 == 1:\n",
        "        return 1\n",
        "    else:\n",
        "        return 2"
      ],
      "metadata": {
        "id": "HgTdObk0-SOe"
      },
      "execution_count": 14,
      "outputs": []
    },
    {
      "cell_type": "markdown",
      "source": [
        "### Агент № 12\n",
        "Выбирает случайное число и выкидывает его, пока не проиграет. Затем выбирает другое случайное."
      ],
      "metadata": {
        "id": "S9l1cyTN8qiW"
      }
    },
    {
      "cell_type": "code",
      "source": [
        "lastAct = random.choice([0, 1, 2])\n",
        "\n",
        "def agent_12(observation, configuration):\n",
        "    global lastAct\n",
        "    if observation.step > 0:\n",
        "      if get_score(lastAct, observation.lastOpponentAction) == -1:\n",
        "        lastAct = random.choice([0, 1, 2])\n",
        "    return lastAct"
      ],
      "metadata": {
        "id": "5qvwPzuBETRy"
      },
      "execution_count": 15,
      "outputs": []
    },
    {
      "cell_type": "markdown",
      "source": [
        "### Агент № 13\n",
        "Выбирает случайное значение, затем повторяет действия оппонента, затем снова выбирает случайное значение, и так далее по кругу."
      ],
      "metadata": {
        "id": "Xp70tTtU8zZP"
      }
    },
    {
      "cell_type": "code",
      "source": [
        "i = 0\n",
        "\n",
        "def agent_13(observation, configuration):\n",
        "    global i\n",
        "    if i % 2 == 0:\n",
        "      return random.choice([0, 1, 2])\n",
        "    else:\n",
        "      return observation.lastOpponentAction"
      ],
      "metadata": {
        "id": "rOfN4Gj3E5RJ"
      },
      "execution_count": 16,
      "outputs": []
    },
    {
      "cell_type": "markdown",
      "source": [
        "## 2. Запуск игр и вывод результата\n",
        "---\n",
        "Запуск игр производится в соответствии со списком агентов *agents*.\n",
        "\n",
        "Каждый агент описан приведнной выше функцией и возвращает значение 0, 1 или 2 в зависимости от вложенной логики агента."
      ],
      "metadata": {
        "id": "WlFmynePLxmh"
      }
    },
    {
      "cell_type": "code",
      "source": [
        "agents = [\n",
        "    agent_1,\n",
        "    agent_2,\n",
        "    agent_3,\n",
        "    agent_4,\n",
        "    agent_5,\n",
        "    agent_6,\n",
        "    agent_7,\n",
        "    agent_8,\n",
        "    agent_9,\n",
        "    agent_10,\n",
        "    agent_11,\n",
        "    agent_12,\n",
        "    agent_13\n",
        "]\n",
        "\n",
        "results = {}\n",
        "count = 0\n",
        "\n",
        "def test_all_agents(n_rounds=1):\n",
        "  scores = {agent.__name__: 0 for agent in agents}\n",
        "  l = len(agents)\n",
        "  for i in range(l):\n",
        "    for j in range(i+1, l):\n",
        "      player_1, player_2 = agents[i], agents[j]\n",
        "\n",
        "      result = evaluate( \"rps\", [player_1, player_2],\n",
        "                        configuration={'episodeSteps': 100,\n",
        "                                       'tieRewardThreshold': 1},\n",
        "                        num_episodes=n_rounds )\n",
        "      for k in range(n_rounds):\n",
        "        if result[0][0] > result[0][1]:\n",
        "          scores[player_1.__name__] += 1\n",
        "        else:\n",
        "          scores[player_2.__name__] += 1\n",
        "  return scores\n",
        "\n",
        "results = test_all_agents(5)\n",
        "print_dict(results)"
      ],
      "metadata": {
        "colab": {
          "base_uri": "https://localhost:8080/"
        },
        "id": "2CUizH57Zwxh",
        "outputId": "1a743222-844a-4920-8d78-f2b3b72c92c1"
      },
      "execution_count": 35,
      "outputs": [
        {
          "output_type": "stream",
          "name": "stdout",
          "text": [
            "agent_1: 20\n",
            "agent_2: 25\n",
            "agent_3: 25\n",
            "agent_4: 20\n",
            "agent_5: 30\n",
            "agent_6: 10\n",
            "agent_7: 30\n",
            "agent_8: 30\n",
            "agent_9: 40\n",
            "agent_10: 25\n",
            "agent_11: 50\n",
            "agent_12: 50\n",
            "agent_13: 35\n",
            "\n",
            "\n"
          ]
        }
      ]
    },
    {
      "cell_type": "code",
      "source": [
        "finTab = pd.Series(results, name=\"Рейтинг агентов по количеству побед\").sort_values(ascending=False).to_frame()\n",
        "finTab"
      ],
      "metadata": {
        "colab": {
          "base_uri": "https://localhost:8080/",
          "height": 457
        },
        "id": "KVCiIRyZJoLF",
        "outputId": "1963052c-fbe4-4316-bb26-e636ab066852"
      },
      "execution_count": 37,
      "outputs": [
        {
          "output_type": "execute_result",
          "data": {
            "text/plain": [
              "          Рейтинг агентов по количеству побед\n",
              "agent_11                                   50\n",
              "agent_12                                   50\n",
              "agent_9                                    40\n",
              "agent_13                                   35\n",
              "agent_5                                    30\n",
              "agent_7                                    30\n",
              "agent_8                                    30\n",
              "agent_2                                    25\n",
              "agent_3                                    25\n",
              "agent_10                                   25\n",
              "agent_1                                    20\n",
              "agent_4                                    20\n",
              "agent_6                                    10"
            ],
            "text/html": [
              "\n",
              "  <div id=\"df-fb609340-872f-4c46-85e6-59714e277df4\">\n",
              "    <div class=\"colab-df-container\">\n",
              "      <div>\n",
              "<style scoped>\n",
              "    .dataframe tbody tr th:only-of-type {\n",
              "        vertical-align: middle;\n",
              "    }\n",
              "\n",
              "    .dataframe tbody tr th {\n",
              "        vertical-align: top;\n",
              "    }\n",
              "\n",
              "    .dataframe thead th {\n",
              "        text-align: right;\n",
              "    }\n",
              "</style>\n",
              "<table border=\"1\" class=\"dataframe\">\n",
              "  <thead>\n",
              "    <tr style=\"text-align: right;\">\n",
              "      <th></th>\n",
              "      <th>Рейтинг агентов по количеству побед</th>\n",
              "    </tr>\n",
              "  </thead>\n",
              "  <tbody>\n",
              "    <tr>\n",
              "      <th>agent_11</th>\n",
              "      <td>50</td>\n",
              "    </tr>\n",
              "    <tr>\n",
              "      <th>agent_12</th>\n",
              "      <td>50</td>\n",
              "    </tr>\n",
              "    <tr>\n",
              "      <th>agent_9</th>\n",
              "      <td>40</td>\n",
              "    </tr>\n",
              "    <tr>\n",
              "      <th>agent_13</th>\n",
              "      <td>35</td>\n",
              "    </tr>\n",
              "    <tr>\n",
              "      <th>agent_5</th>\n",
              "      <td>30</td>\n",
              "    </tr>\n",
              "    <tr>\n",
              "      <th>agent_7</th>\n",
              "      <td>30</td>\n",
              "    </tr>\n",
              "    <tr>\n",
              "      <th>agent_8</th>\n",
              "      <td>30</td>\n",
              "    </tr>\n",
              "    <tr>\n",
              "      <th>agent_2</th>\n",
              "      <td>25</td>\n",
              "    </tr>\n",
              "    <tr>\n",
              "      <th>agent_3</th>\n",
              "      <td>25</td>\n",
              "    </tr>\n",
              "    <tr>\n",
              "      <th>agent_10</th>\n",
              "      <td>25</td>\n",
              "    </tr>\n",
              "    <tr>\n",
              "      <th>agent_1</th>\n",
              "      <td>20</td>\n",
              "    </tr>\n",
              "    <tr>\n",
              "      <th>agent_4</th>\n",
              "      <td>20</td>\n",
              "    </tr>\n",
              "    <tr>\n",
              "      <th>agent_6</th>\n",
              "      <td>10</td>\n",
              "    </tr>\n",
              "  </tbody>\n",
              "</table>\n",
              "</div>\n",
              "      <button class=\"colab-df-convert\" onclick=\"convertToInteractive('df-fb609340-872f-4c46-85e6-59714e277df4')\"\n",
              "              title=\"Convert this dataframe to an interactive table.\"\n",
              "              style=\"display:none;\">\n",
              "        \n",
              "  <svg xmlns=\"http://www.w3.org/2000/svg\" height=\"24px\"viewBox=\"0 0 24 24\"\n",
              "       width=\"24px\">\n",
              "    <path d=\"M0 0h24v24H0V0z\" fill=\"none\"/>\n",
              "    <path d=\"M18.56 5.44l.94 2.06.94-2.06 2.06-.94-2.06-.94-.94-2.06-.94 2.06-2.06.94zm-11 1L8.5 8.5l.94-2.06 2.06-.94-2.06-.94L8.5 2.5l-.94 2.06-2.06.94zm10 10l.94 2.06.94-2.06 2.06-.94-2.06-.94-.94-2.06-.94 2.06-2.06.94z\"/><path d=\"M17.41 7.96l-1.37-1.37c-.4-.4-.92-.59-1.43-.59-.52 0-1.04.2-1.43.59L10.3 9.45l-7.72 7.72c-.78.78-.78 2.05 0 2.83L4 21.41c.39.39.9.59 1.41.59.51 0 1.02-.2 1.41-.59l7.78-7.78 2.81-2.81c.8-.78.8-2.07 0-2.86zM5.41 20L4 18.59l7.72-7.72 1.47 1.35L5.41 20z\"/>\n",
              "  </svg>\n",
              "      </button>\n",
              "      \n",
              "  <style>\n",
              "    .colab-df-container {\n",
              "      display:flex;\n",
              "      flex-wrap:wrap;\n",
              "      gap: 12px;\n",
              "    }\n",
              "\n",
              "    .colab-df-convert {\n",
              "      background-color: #E8F0FE;\n",
              "      border: none;\n",
              "      border-radius: 50%;\n",
              "      cursor: pointer;\n",
              "      display: none;\n",
              "      fill: #1967D2;\n",
              "      height: 32px;\n",
              "      padding: 0 0 0 0;\n",
              "      width: 32px;\n",
              "    }\n",
              "\n",
              "    .colab-df-convert:hover {\n",
              "      background-color: #E2EBFA;\n",
              "      box-shadow: 0px 1px 2px rgba(60, 64, 67, 0.3), 0px 1px 3px 1px rgba(60, 64, 67, 0.15);\n",
              "      fill: #174EA6;\n",
              "    }\n",
              "\n",
              "    [theme=dark] .colab-df-convert {\n",
              "      background-color: #3B4455;\n",
              "      fill: #D2E3FC;\n",
              "    }\n",
              "\n",
              "    [theme=dark] .colab-df-convert:hover {\n",
              "      background-color: #434B5C;\n",
              "      box-shadow: 0px 1px 3px 1px rgba(0, 0, 0, 0.15);\n",
              "      filter: drop-shadow(0px 1px 2px rgba(0, 0, 0, 0.3));\n",
              "      fill: #FFFFFF;\n",
              "    }\n",
              "  </style>\n",
              "\n",
              "      <script>\n",
              "        const buttonEl =\n",
              "          document.querySelector('#df-fb609340-872f-4c46-85e6-59714e277df4 button.colab-df-convert');\n",
              "        buttonEl.style.display =\n",
              "          google.colab.kernel.accessAllowed ? 'block' : 'none';\n",
              "\n",
              "        async function convertToInteractive(key) {\n",
              "          const element = document.querySelector('#df-fb609340-872f-4c46-85e6-59714e277df4');\n",
              "          const dataTable =\n",
              "            await google.colab.kernel.invokeFunction('convertToInteractive',\n",
              "                                                     [key], {});\n",
              "          if (!dataTable) return;\n",
              "\n",
              "          const docLinkHtml = 'Like what you see? Visit the ' +\n",
              "            '<a target=\"_blank\" href=https://colab.research.google.com/notebooks/data_table.ipynb>data table notebook</a>'\n",
              "            + ' to learn more about interactive tables.';\n",
              "          element.innerHTML = '';\n",
              "          dataTable['output_type'] = 'display_data';\n",
              "          await google.colab.output.renderOutput(dataTable, element);\n",
              "          const docLink = document.createElement('div');\n",
              "          docLink.innerHTML = docLinkHtml;\n",
              "          element.appendChild(docLink);\n",
              "        }\n",
              "      </script>\n",
              "    </div>\n",
              "  </div>\n",
              "  "
            ]
          },
          "metadata": {},
          "execution_count": 37
        }
      ]
    }
  ]
}